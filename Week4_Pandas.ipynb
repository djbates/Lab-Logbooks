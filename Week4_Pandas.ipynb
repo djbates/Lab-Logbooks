{
 "cells": [
  {
   "cell_type": "markdown",
   "id": "b5e7466d",
   "metadata": {},
   "source": [
    "# MOD007893 TRI2 F01CAM\n",
    "# SID: 2226226"
   ]
  },
  {
   "cell_type": "code",
   "execution_count": 86,
   "id": "3c2784a2",
   "metadata": {},
   "outputs": [],
   "source": [
    "import numpy as np\n",
    "import pandas as pd"
   ]
  },
  {
   "cell_type": "code",
   "execution_count": 64,
   "id": "afe8f2c7",
   "metadata": {},
   "outputs": [],
   "source": [
    "x = [1,5,2,5]"
   ]
  },
  {
   "cell_type": "code",
   "execution_count": 65,
   "id": "105bd191",
   "metadata": {},
   "outputs": [
    {
     "name": "stdout",
     "output_type": "stream",
     "text": [
      "   0\n",
      "0  1\n",
      "1  5\n",
      "2  2\n",
      "3  5\n"
     ]
    }
   ],
   "source": [
    "df_x = pd.DataFrame(x)\n",
    "print(df_x)"
   ]
  },
  {
   "cell_type": "code",
   "execution_count": 66,
   "id": "8c2e3021",
   "metadata": {},
   "outputs": [],
   "source": [
    "y = {'Name' : ['Adam','Becca'],'Age': [24,26]}"
   ]
  },
  {
   "cell_type": "code",
   "execution_count": 68,
   "id": "57109da7",
   "metadata": {},
   "outputs": [
    {
     "name": "stdout",
     "output_type": "stream",
     "text": [
      "    Name  Age\n",
      "0   Adam   24\n",
      "1  Becca   26\n"
     ]
    }
   ],
   "source": [
    "df_y = pd.DataFrame(y)\n",
    "print(df_y)"
   ]
  },
  {
   "cell_type": "code",
   "execution_count": 69,
   "id": "9387acdd",
   "metadata": {},
   "outputs": [],
   "source": [
    "data = [{'a': 1, 'b': 2},{'a': 5, 'b': 10, 'c': 20}]"
   ]
  },
  {
   "cell_type": "code",
   "execution_count": 70,
   "id": "8dc937e3",
   "metadata": {},
   "outputs": [
    {
     "name": "stdout",
     "output_type": "stream",
     "text": [
      "        a   b\n",
      "first   1   2\n",
      "second  5  10\n"
     ]
    }
   ],
   "source": [
    "df1 = pd.DataFrame(data, index=['first','second'],columns=['a','b'])\n",
    "print (df1)"
   ]
  },
  {
   "cell_type": "code",
   "execution_count": 71,
   "id": "6af46b4b",
   "metadata": {},
   "outputs": [
    {
     "name": "stdout",
     "output_type": "stream",
     "text": [
      "        a  b1\n",
      "first   1 NaN\n",
      "second  5 NaN\n"
     ]
    }
   ],
   "source": [
    "df2 = pd.DataFrame(data, index=['first','second'],columns=['a','b1'])\n",
    "print (df2)"
   ]
  },
  {
   "cell_type": "code",
   "execution_count": 72,
   "id": "8c346532",
   "metadata": {},
   "outputs": [
    {
     "name": "stdout",
     "output_type": "stream",
     "text": [
      "   one  two\n",
      "a  1.0    1\n",
      "b  2.0    2\n",
      "c  3.0    3\n",
      "d  NaN    4\n"
     ]
    }
   ],
   "source": [
    "d = {'one' : pd.Series([1, 2, 3], index=['a', 'b', 'c']), 'two' : pd.Series([1,\n",
    "2, 3, 4], index=['a', 'b', 'c', 'd'])}\n",
    "z = pd.DataFrame(d)\n",
    "print(z)"
   ]
  },
  {
   "cell_type": "code",
   "execution_count": 73,
   "id": "41fd7680",
   "metadata": {},
   "outputs": [
    {
     "name": "stdout",
     "output_type": "stream",
     "text": [
      "{'one': a    1\n",
      "b    2\n",
      "c    3\n",
      "dtype: int64, 'two': a    1\n",
      "b    2\n",
      "c    3\n",
      "d    4\n",
      "dtype: int64}\n"
     ]
    }
   ],
   "source": [
    "d = {'one' : pd.Series([1, 2, 3], index=['a', 'b', 'c']), 'two' : pd.Series([1, 2,\n",
    "3, 4], index=['a', 'b', 'c', 'd'])}\n",
    "print(d)"
   ]
  },
  {
   "cell_type": "code",
   "execution_count": 74,
   "id": "25836cda",
   "metadata": {},
   "outputs": [
    {
     "name": "stdout",
     "output_type": "stream",
     "text": [
      "{'one': a    1\n",
      "b    2\n",
      "c    3\n",
      "dtype: int64, 'two': a    1\n",
      "b    2\n",
      "c    3\n",
      "d    4\n",
      "dtype: int64}\n"
     ]
    }
   ],
   "source": [
    "df = pd.DataFrame(d)\n",
    "print(d)"
   ]
  },
  {
   "cell_type": "markdown",
   "id": "4c2db070",
   "metadata": {},
   "source": [
    "Adding/Removing columns"
   ]
  },
  {
   "cell_type": "code",
   "execution_count": 75,
   "id": "fe006930",
   "metadata": {},
   "outputs": [
    {
     "name": "stdout",
     "output_type": "stream",
     "text": [
      "   one  two  three\n",
      "a  1.0    1   10.0\n",
      "b  2.0    2   20.0\n",
      "c  3.0    3   30.0\n",
      "d  NaN    4    NaN\n"
     ]
    }
   ],
   "source": [
    "# Adding a new column to an existing DataFrame object with column label by passing new series\n",
    "df['three']=pd.Series([10,20,30],index=['a','b','c'])\n",
    "print(df)"
   ]
  },
  {
   "cell_type": "code",
   "execution_count": 76,
   "id": "f8407c99",
   "metadata": {},
   "outputs": [
    {
     "name": "stdout",
     "output_type": "stream",
     "text": [
      "   one  two  three  four\n",
      "a  1.0    1   10.0  11.0\n",
      "b  2.0    2   20.0  22.0\n",
      "c  3.0    3   30.0  33.0\n",
      "d  NaN    4    NaN   NaN\n"
     ]
    }
   ],
   "source": [
    "#Adding a new column using the existing columns in DataFrame:\")\n",
    "df['four']=df['one']+df['three']\n",
    "print(df)"
   ]
  },
  {
   "cell_type": "code",
   "execution_count": 77,
   "id": "5b0fe2e8",
   "metadata": {},
   "outputs": [
    {
     "name": "stdout",
     "output_type": "stream",
     "text": [
      "   two  three  four\n",
      "a    1   10.0  11.0\n",
      "b    2   20.0  22.0\n",
      "c    3   30.0  33.0\n",
      "d    4    NaN   NaN\n"
     ]
    }
   ],
   "source": [
    "del df['one'] # removing column using del function\n",
    "print(df)"
   ]
  },
  {
   "cell_type": "code",
   "execution_count": 78,
   "id": "a371ffd1",
   "metadata": {},
   "outputs": [
    {
     "name": "stdout",
     "output_type": "stream",
     "text": [
      "   three  four\n",
      "a   10.0  11.0\n",
      "b   20.0  22.0\n",
      "c   30.0  33.0\n",
      "d    NaN   NaN\n"
     ]
    }
   ],
   "source": [
    "df.pop('two') #removing another column using pop function\n",
    "print(df)"
   ]
  },
  {
   "cell_type": "markdown",
   "id": "6a1fc56d",
   "metadata": {},
   "source": [
    "Slicing in Pandas"
   ]
  },
  {
   "cell_type": "code",
   "execution_count": 80,
   "id": "ac0b90ff",
   "metadata": {},
   "outputs": [
    {
     "name": "stdout",
     "output_type": "stream",
     "text": [
      "   one  two\n",
      "c  3.0    3\n",
      "d  NaN    4\n"
     ]
    }
   ],
   "source": [
    "d = {'one' : pd.Series([1, 2, 3], index=['a', 'b', 'c']), 'two' : pd.Series([1, 2, 3, 4], index=['a', 'b', 'c',\n",
    "'d'])}\n",
    "df = pd.DataFrame(d)\n",
    "print(df[2:4])"
   ]
  },
  {
   "cell_type": "markdown",
   "id": "b19310b5",
   "metadata": {},
   "source": [
    "Adding/Deleting Rows"
   ]
  },
  {
   "cell_type": "code",
   "execution_count": 82,
   "id": "aed1a5a5",
   "metadata": {},
   "outputs": [
    {
     "name": "stdout",
     "output_type": "stream",
     "text": [
      "   one  two    a    b\n",
      "a  1.0  1.0  NaN  NaN\n",
      "b  2.0  2.0  NaN  NaN\n",
      "c  3.0  3.0  NaN  NaN\n",
      "d  NaN  4.0  NaN  NaN\n",
      "0  NaN  NaN  5.0  6.0\n",
      "1  NaN  NaN  7.0  8.0\n"
     ]
    },
    {
     "name": "stderr",
     "output_type": "stream",
     "text": [
      "C:\\Users\\batesd\\AppData\\Local\\Temp\\ipykernel_17424\\2131087559.py:2: FutureWarning: The frame.append method is deprecated and will be removed from pandas in a future version. Use pandas.concat instead.\n",
      "  df = df.append(df2)\n"
     ]
    }
   ],
   "source": [
    "df2 = pd.DataFrame([[5,6], [7,8]], columns = ['a', 'b'])\n",
    "df = df.append(df2)\n",
    "print(df)"
   ]
  },
  {
   "cell_type": "code",
   "execution_count": 84,
   "id": "db394931",
   "metadata": {},
   "outputs": [
    {
     "name": "stdout",
     "output_type": "stream",
     "text": [
      "   one  two    a    b\n",
      "a  1.0  1.0  NaN  NaN\n",
      "b  2.0  2.0  NaN  NaN\n",
      "c  3.0  3.0  NaN  NaN\n",
      "d  NaN  4.0  NaN  NaN\n",
      "1  NaN  NaN  7.0  8.0\n"
     ]
    }
   ],
   "source": [
    "df = df.drop(0) #remove row 0\n",
    "print(df)"
   ]
  },
  {
   "cell_type": "markdown",
   "id": "1398dd2e",
   "metadata": {},
   "source": [
    "Reindexing"
   ]
  },
  {
   "cell_type": "code",
   "execution_count": 87,
   "id": "7c67fbe2",
   "metadata": {},
   "outputs": [
    {
     "name": "stdout",
     "output_type": "stream",
     "text": [
      "       col1      col2      col3\n",
      "0 -0.234854  1.032612  0.270198\n",
      "1 -0.738468 -0.629226  0.173362\n",
      "2  0.468785 -1.373137 -2.113660\n",
      "3  0.508086 -0.203875 -0.886686\n",
      "4  0.673714 -0.314300  0.037957\n",
      "5 -0.775354  0.706489  1.170749\n",
      "6  0.703910 -1.556037 -0.701802\n"
     ]
    }
   ],
   "source": [
    "df1 = pd.DataFrame(np.random.randn(10,3),columns=['col1','col2','col3'])\n",
    "df2 = pd.DataFrame(np.random.randn(7,3),columns=['col1','col2','col3'])\n",
    "df1 = df1.reindex_like(df2)\n",
    "print(df1)"
   ]
  },
  {
   "cell_type": "code",
   "execution_count": 92,
   "id": "81e9bfbd",
   "metadata": {},
   "outputs": [
    {
     "name": "stdout",
     "output_type": "stream",
     "text": [
      "['a', 'b', 'c', 'a', 'b', 'c']\n",
      "Categories (3, object): ['a', 'b', 'c']\n"
     ]
    }
   ],
   "source": [
    "cat = pd.Categorical(['a', 'b', 'c', 'a', 'b', 'c'])\n",
    "print(cat)"
   ]
  },
  {
   "cell_type": "code",
   "execution_count": 94,
   "id": "0e0e23be",
   "metadata": {},
   "outputs": [
    {
     "name": "stdout",
     "output_type": "stream",
     "text": [
      "   cat    s\n",
      "0    a    a\n",
      "1    c    c\n",
      "2    c    c\n",
      "3  NaN  NaN\n"
     ]
    }
   ],
   "source": [
    "cat = pd.Categorical([\"a\", \"c\", \"c\", np.nan], categories=[\"b\", \"a\", \"c\"])\n",
    "df = pd.DataFrame({\"cat\":cat, \"s\":[\"a\", \"c\", \"c\", np.nan]})\n",
    "print(df)"
   ]
  },
  {
   "cell_type": "code",
   "execution_count": 96,
   "id": "f710375d",
   "metadata": {},
   "outputs": [
    {
     "data": {
      "text/html": [
       "<div>\n",
       "<style scoped>\n",
       "    .dataframe tbody tr th:only-of-type {\n",
       "        vertical-align: middle;\n",
       "    }\n",
       "\n",
       "    .dataframe tbody tr th {\n",
       "        vertical-align: top;\n",
       "    }\n",
       "\n",
       "    .dataframe thead th {\n",
       "        text-align: right;\n",
       "    }\n",
       "</style>\n",
       "<table border=\"1\" class=\"dataframe\">\n",
       "  <thead>\n",
       "    <tr style=\"text-align: right;\">\n",
       "      <th></th>\n",
       "      <th>cat</th>\n",
       "      <th>s</th>\n",
       "    </tr>\n",
       "  </thead>\n",
       "  <tbody>\n",
       "    <tr>\n",
       "      <th>count</th>\n",
       "      <td>3</td>\n",
       "      <td>3</td>\n",
       "    </tr>\n",
       "    <tr>\n",
       "      <th>unique</th>\n",
       "      <td>2</td>\n",
       "      <td>2</td>\n",
       "    </tr>\n",
       "    <tr>\n",
       "      <th>top</th>\n",
       "      <td>c</td>\n",
       "      <td>c</td>\n",
       "    </tr>\n",
       "    <tr>\n",
       "      <th>freq</th>\n",
       "      <td>2</td>\n",
       "      <td>2</td>\n",
       "    </tr>\n",
       "  </tbody>\n",
       "</table>\n",
       "</div>"
      ],
      "text/plain": [
       "       cat  s\n",
       "count    3  3\n",
       "unique   2  2\n",
       "top      c  c\n",
       "freq     2  2"
      ]
     },
     "execution_count": 96,
     "metadata": {},
     "output_type": "execute_result"
    }
   ],
   "source": [
    "df.describe()"
   ]
  },
  {
   "cell_type": "code",
   "execution_count": 97,
   "id": "ab3a44b5",
   "metadata": {},
   "outputs": [
    {
     "data": {
      "text/plain": [
       "count     3\n",
       "unique    2\n",
       "top       c\n",
       "freq      2\n",
       "Name: cat, dtype: object"
      ]
     },
     "execution_count": 97,
     "metadata": {},
     "output_type": "execute_result"
    }
   ],
   "source": [
    "df[\"cat\"].describe()"
   ]
  },
  {
   "cell_type": "code",
   "execution_count": null,
   "id": "f049407e",
   "metadata": {},
   "outputs": [],
   "source": []
  }
 ],
 "metadata": {
  "kernelspec": {
   "display_name": "Python 3 (ipykernel)",
   "language": "python",
   "name": "python3"
  },
  "language_info": {
   "codemirror_mode": {
    "name": "ipython",
    "version": 3
   },
   "file_extension": ".py",
   "mimetype": "text/x-python",
   "name": "python",
   "nbconvert_exporter": "python",
   "pygments_lexer": "ipython3",
   "version": "3.9.12"
  }
 },
 "nbformat": 4,
 "nbformat_minor": 5
}
