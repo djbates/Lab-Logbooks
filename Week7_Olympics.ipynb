{
 "cells": [
  {
   "cell_type": "markdown",
   "id": "7e8623f5",
   "metadata": {},
   "source": [
    "# MOD007893 TRI2 F01CAM\n",
    "# SID: 2226226"
   ]
  },
  {
   "cell_type": "code",
   "execution_count": 13,
   "id": "565d17bf",
   "metadata": {},
   "outputs": [],
   "source": [
    "import numpy as np\n",
    "import matplotlib.pyplot as plt\n",
    "import pandas as pd"
   ]
  },
  {
   "cell_type": "code",
   "execution_count": 14,
   "id": "69791b69",
   "metadata": {},
   "outputs": [
    {
     "data": {
      "text/html": [
       "<div>\n",
       "<style scoped>\n",
       "    .dataframe tbody tr th:only-of-type {\n",
       "        vertical-align: middle;\n",
       "    }\n",
       "\n",
       "    .dataframe tbody tr th {\n",
       "        vertical-align: top;\n",
       "    }\n",
       "\n",
       "    .dataframe thead th {\n",
       "        text-align: right;\n",
       "    }\n",
       "</style>\n",
       "<table border=\"1\" class=\"dataframe\">\n",
       "  <thead>\n",
       "    <tr style=\"text-align: right;\">\n",
       "      <th></th>\n",
       "      <th>City</th>\n",
       "      <th>Edition</th>\n",
       "      <th>Sport</th>\n",
       "      <th>Discipline</th>\n",
       "      <th>Athlete</th>\n",
       "      <th>NOC</th>\n",
       "      <th>Gender</th>\n",
       "      <th>Event</th>\n",
       "      <th>Event_gender</th>\n",
       "      <th>Medal</th>\n",
       "    </tr>\n",
       "  </thead>\n",
       "  <tbody>\n",
       "    <tr>\n",
       "      <th>0</th>\n",
       "      <td>Athens</td>\n",
       "      <td>1896</td>\n",
       "      <td>Aquatics</td>\n",
       "      <td>Swimming</td>\n",
       "      <td>HAJOS, Alfred</td>\n",
       "      <td>HUN</td>\n",
       "      <td>Men</td>\n",
       "      <td>100m freestyle</td>\n",
       "      <td>M</td>\n",
       "      <td>Gold</td>\n",
       "    </tr>\n",
       "    <tr>\n",
       "      <th>1</th>\n",
       "      <td>Athens</td>\n",
       "      <td>1896</td>\n",
       "      <td>Aquatics</td>\n",
       "      <td>Swimming</td>\n",
       "      <td>HERSCHMANN, Otto</td>\n",
       "      <td>AUT</td>\n",
       "      <td>Men</td>\n",
       "      <td>100m freestyle</td>\n",
       "      <td>M</td>\n",
       "      <td>Silver</td>\n",
       "    </tr>\n",
       "    <tr>\n",
       "      <th>2</th>\n",
       "      <td>Athens</td>\n",
       "      <td>1896</td>\n",
       "      <td>Aquatics</td>\n",
       "      <td>Swimming</td>\n",
       "      <td>DRIVAS, Dimitrios</td>\n",
       "      <td>GRE</td>\n",
       "      <td>Men</td>\n",
       "      <td>100m freestyle for sailors</td>\n",
       "      <td>M</td>\n",
       "      <td>Bronze</td>\n",
       "    </tr>\n",
       "    <tr>\n",
       "      <th>3</th>\n",
       "      <td>Athens</td>\n",
       "      <td>1896</td>\n",
       "      <td>Aquatics</td>\n",
       "      <td>Swimming</td>\n",
       "      <td>MALOKINIS, Ioannis</td>\n",
       "      <td>GRE</td>\n",
       "      <td>Men</td>\n",
       "      <td>100m freestyle for sailors</td>\n",
       "      <td>M</td>\n",
       "      <td>Gold</td>\n",
       "    </tr>\n",
       "    <tr>\n",
       "      <th>4</th>\n",
       "      <td>Athens</td>\n",
       "      <td>1896</td>\n",
       "      <td>Aquatics</td>\n",
       "      <td>Swimming</td>\n",
       "      <td>CHASAPIS, Spiridon</td>\n",
       "      <td>GRE</td>\n",
       "      <td>Men</td>\n",
       "      <td>100m freestyle for sailors</td>\n",
       "      <td>M</td>\n",
       "      <td>Silver</td>\n",
       "    </tr>\n",
       "  </tbody>\n",
       "</table>\n",
       "</div>"
      ],
      "text/plain": [
       "     City  Edition     Sport Discipline             Athlete  NOC Gender  \\\n",
       "0  Athens     1896  Aquatics   Swimming       HAJOS, Alfred  HUN    Men   \n",
       "1  Athens     1896  Aquatics   Swimming    HERSCHMANN, Otto  AUT    Men   \n",
       "2  Athens     1896  Aquatics   Swimming   DRIVAS, Dimitrios  GRE    Men   \n",
       "3  Athens     1896  Aquatics   Swimming  MALOKINIS, Ioannis  GRE    Men   \n",
       "4  Athens     1896  Aquatics   Swimming  CHASAPIS, Spiridon  GRE    Men   \n",
       "\n",
       "                        Event Event_gender   Medal  \n",
       "0              100m freestyle            M    Gold  \n",
       "1              100m freestyle            M  Silver  \n",
       "2  100m freestyle for sailors            M  Bronze  \n",
       "3  100m freestyle for sailors            M    Gold  \n",
       "4  100m freestyle for sailors            M  Silver  "
      ]
     },
     "execution_count": 14,
     "metadata": {},
     "output_type": "execute_result"
    }
   ],
   "source": [
    "dataset = pd.read_csv('Olympics.csv')\n",
    "dataset.head()"
   ]
  },
  {
   "cell_type": "code",
   "execution_count": 15,
   "id": "678d86df",
   "metadata": {},
   "outputs": [
    {
     "data": {
      "text/plain": [
       "City            0\n",
       "Edition         0\n",
       "Sport           0\n",
       "Discipline      0\n",
       "Athlete         0\n",
       "NOC             0\n",
       "Gender          0\n",
       "Event           0\n",
       "Event_gender    0\n",
       "Medal           0\n",
       "dtype: int64"
      ]
     },
     "execution_count": 15,
     "metadata": {},
     "output_type": "execute_result"
    }
   ],
   "source": [
    "dataset.isnull().sum()"
   ]
  },
  {
   "cell_type": "code",
   "execution_count": 16,
   "id": "7e0a2ead",
   "metadata": {},
   "outputs": [
    {
     "data": {
      "text/plain": [
       "City            object\n",
       "Edition          int64\n",
       "Sport           object\n",
       "Discipline      object\n",
       "Athlete         object\n",
       "NOC             object\n",
       "Gender          object\n",
       "Event           object\n",
       "Event_gender    object\n",
       "Medal           object\n",
       "dtype: object"
      ]
     },
     "execution_count": 16,
     "metadata": {},
     "output_type": "execute_result"
    }
   ],
   "source": [
    "dataset.dtypes #mostly strings"
   ]
  },
  {
   "cell_type": "code",
   "execution_count": 19,
   "id": "129608aa",
   "metadata": {},
   "outputs": [
    {
     "name": "stdout",
     "output_type": "stream",
     "text": [
      "      Medals\n",
      "1896     151\n",
      "1900     512\n",
      "1904     470\n",
      "1908     804\n",
      "1912     885\n",
      "1920    1298\n",
      "1924     884\n",
      "1928     710\n",
      "1932     615\n",
      "1936     875\n",
      "1948     814\n",
      "1952     889\n",
      "1956     885\n",
      "1960     882\n",
      "1964    1010\n",
      "1968    1031\n",
      "1972    1185\n",
      "1976    1305\n",
      "1980    1387\n",
      "1984    1459\n",
      "1988    1546\n",
      "1992    1705\n",
      "1996    1859\n",
      "2000    2015\n",
      "2004    1998\n",
      "2008    2042\n"
     ]
    }
   ],
   "source": [
    "year = dataset['Edition'].value_counts()\n",
    "year = year.to_frame()\n",
    "year.columns = ['Medals']\n",
    "year = year.sort_index(axis=0)\n",
    "print(year)"
   ]
  },
  {
   "cell_type": "code",
   "execution_count": 22,
   "id": "684fb0d5",
   "metadata": {},
   "outputs": [
    {
     "data": {
      "image/png": "[encoded data removed]",
      "text/plain": [
       "<Figure size 432x288 with 1 Axes>"
      ]
     },
     "metadata": {
      "needs_background": "light"
     },
     "output_type": "display_data"
    }
   ],
   "source": [
    "fig,ax = plt.subplots()\n",
    "year.plot(ax = ax, kind = 'line', xlabel= 'Year', ylabel = 'No of Medals', title='No of medals won at Olympics 1896-2008',color='blue')\n",
    "plt.xticks(rotation=90)\n",
    "plt.legend(framealpha=1, frameon=True);\n",
    "plt.show()"
   ]
  },
  {
   "cell_type": "code",
   "execution_count": 23,
   "id": "47c69e36",
   "metadata": {},
   "outputs": [
    {
     "data": {
      "text/plain": [
       "Men      21721\n",
       "Women     7495\n",
       "Name: Gender, dtype: int64"
      ]
     },
     "execution_count": 23,
     "metadata": {},
     "output_type": "execute_result"
    }
   ],
   "source": [
    "dataset['Gender'].value_counts()"
   ]
  },
  {
   "cell_type": "code",
   "execution_count": 24,
   "id": "a931a292",
   "metadata": {},
   "outputs": [
    {
     "data": {
      "image/png": "[encoded data removed]",
      "text/plain": [
       "<Figure size 432x288 with 1 Axes>"
      ]
     },
     "metadata": {},
     "output_type": "display_data"
    }
   ],
   "source": [
    "fig,ax = plt.subplots()\n",
    "dataset['Gender'].value_counts().plot(ax = ax, kind = 'pie',title='Proportion of Medals won by Gender',autopct='%1.2f%%')\n",
    "plt.show();"
   ]
  },
  {
   "cell_type": "code",
   "execution_count": 25,
   "id": "bd9de8e9",
   "metadata": {},
   "outputs": [
    {
     "data": {
      "text/plain": [
       "Athletics          3448\n",
       "Rowing             2523\n",
       "Swimming           2439\n",
       "Artistic G.        2103\n",
       "Fencing            1547\n",
       "Football           1387\n",
       "Hockey             1325\n",
       "Shooting           1105\n",
       "Sailing            1061\n",
       "Basketball          940\n",
       "Canoe / Kayak F     912\n",
       "Handball            886\n",
       "Water polo          880\n",
       "Volleyball          862\n",
       "Boxing              842\n",
       "Cycling Track       692\n",
       "Wrestling Free.     591\n",
       "Wrestling Gre-R     549\n",
       "Weightlifting       548\n",
       "Judo                435\n",
       "Diving              356\n",
       "Baseball            335\n",
       "Eventing            313\n",
       "Jumping             312\n",
       "Archery             305\n",
       "Cycling Road        303\n",
       "Tennis              272\n",
       "Dressage            255\n",
       "Rugby               192\n",
       "Softball            180\n",
       "Modern Pentath.     174\n",
       "Synchronized S.     153\n",
       "Badminton           120\n",
       "Table Tennis        120\n",
       "Tug of War           94\n",
       "Rhythmic G.          93\n",
       "Canoe / Kayak S      90\n",
       "Taekwondo            80\n",
       "Polo                 66\n",
       "Lacrosse             59\n",
       "Beach volley.        48\n",
       "Golf                 30\n",
       "Figure skating       27\n",
       "Ice Hockey           27\n",
       "Mountain Bike        24\n",
       "Cricket              24\n",
       "Trampoline           18\n",
       "Triathlon            18\n",
       "Vaulting             14\n",
       "Rackets              10\n",
       "Croquet               8\n",
       "BMX                   6\n",
       "Water Motorspor       5\n",
       "Basque Pelota         4\n",
       "Jeu de Paume          3\n",
       "Roque                 3\n",
       "Name: Discipline, dtype: int64"
      ]
     },
     "execution_count": 25,
     "metadata": {},
     "output_type": "execute_result"
    }
   ],
   "source": [
    "dataset['Discipline'].value_counts()"
   ]
  },
  {
   "cell_type": "code",
   "execution_count": 30,
   "id": "5014135b",
   "metadata": {},
   "outputs": [
    {
     "data": {
      "image/png": "[encoded data removed]",
      "text/plain": [
       "<Figure size 432x288 with 1 Axes>"
      ]
     },
     "metadata": {
      "needs_background": "light"
     },
     "output_type": "display_data"
    }
   ],
   "source": [
    "fig,ax = plt.subplots()\n",
    "dataset['Discipline'].value_counts().head(25).plot(ax = ax, kind = 'bar',title='Most Olympic Medals won by Discipline (Top 25)')\n",
    "plt.show();"
   ]
  },
  {
   "cell_type": "code",
   "execution_count": 33,
   "id": "f3271266",
   "metadata": {},
   "outputs": [
    {
     "data": {
      "image/png": "[encoded data removed]",
      "text/plain": [
       "<Figure size 432x288 with 1 Axes>"
      ]
     },
     "metadata": {
      "needs_background": "light"
     },
     "output_type": "display_data"
    }
   ],
   "source": [
    "fig,ax = plt.subplots()\n",
    "dataset['NOC'].value_counts().head(25).plot(ax = ax, kind = 'bar',title='Most Olympic Medals won (by National Olympic Committee) (Top 25)')\n",
    "plt.show();"
   ]
  },
  {
   "cell_type": "code",
   "execution_count": null,
   "id": "8f1d35f3",
   "metadata": {},
   "outputs": [],
   "source": []
  }
 ],
 "metadata": {
  "kernelspec": {
   "display_name": "Python 3 (ipykernel)",
   "language": "python",
   "name": "python3"
  },
  "language_info": {
   "codemirror_mode": {
    "name": "ipython",
    "version": 3
   },
   "file_extension": ".py",
   "mimetype": "text/x-python",
   "name": "python",
   "nbconvert_exporter": "python",
   "pygments_lexer": "ipython3",
   "version": "3.9.12"
  }
 },
 "nbformat": 4,
 "nbformat_minor": 5
}
